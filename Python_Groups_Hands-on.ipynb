{
 "cells": [
  {
   "cell_type": "code",
   "execution_count": 84,
   "id": "6d7046bb",
   "metadata": {},
   "outputs": [
    {
     "data": {
      "text/plain": [
       "{1: {'title': \"Harry Potter and the Sorcerer's Stone\",\n",
       "  'author': 'J.K. Rowling',\n",
       "  'year': 1997,\n",
       "  'genres': ['Fantasy', 'Young Adult']},\n",
       " 2: {'title': 'To Kill a Mockingbird',\n",
       "  'author': 'Harper Lee',\n",
       "  'year': 1960,\n",
       "  'genres': ['Fiction', 'Classics']},\n",
       " 3: {'title': 'The Great Gatsby',\n",
       "  'author': 'F. Scott Fitzgerald',\n",
       "  'year': 1925,\n",
       "  'genres': ['Fiction', 'Classics']},\n",
       " 4: {'title': '1984',\n",
       "  'author': 'George Orwell',\n",
       "  'year': 1949,\n",
       "  'genres': ['Fiction', 'Dystopian']},\n",
       " 5: {'title': 'The Catcher in the Rye',\n",
       "  'author': 'J.D. Salinger',\n",
       "  'year': 1951,\n",
       "  'genres': ['Fiction', 'Classics']},\n",
       " 6: {'title': 'Pride and Prejudice',\n",
       "  'author': 'Jane Austen',\n",
       "  'year': 1813,\n",
       "  'genres': ['Fiction', 'Romance', 'Classics']},\n",
       " 7: {'title': 'The Hobbit',\n",
       "  'author': 'J.R.R. Tolkien',\n",
       "  'year': 1937,\n",
       "  'genres': ['Fantasy', 'Adventure']},\n",
       " 8: {'title': 'The Hunger Games',\n",
       "  'author': 'Suzanne Collins',\n",
       "  'year': 2008,\n",
       "  'genres': ['Science Fiction', 'Dystopian', 'Young Adult']},\n",
       " 9: {'title': 'The Da Vinci Code',\n",
       "  'author': 'Dan Brown',\n",
       "  'year': 2003,\n",
       "  'genres': ['Mystery', 'Thriller']},\n",
       " 10: {'title': 'The Chronicles of Narnia',\n",
       "  'author': 'C.S. Lewis',\n",
       "  'year': 1950,\n",
       "  'genres': ['Fantasy', \"Children's Literature\"]},\n",
       " 11: {'title': 'Gone with the Wind',\n",
       "  'author': 'Margaret Mitchell',\n",
       "  'year': 1936,\n",
       "  'genres': ['Historical Fiction', 'Romance']},\n",
       " 12: {'title': 'Sapiens: A Brief History of Humankind',\n",
       "  'author': 'Yuval Noah Harari',\n",
       "  'year': 2011,\n",
       "  'genres': ['Nonfiction', 'History', 'Science']},\n",
       " 13: {'title': 'The Road',\n",
       "  'author': 'Cormac McCarthy',\n",
       "  'year': 2006,\n",
       "  'genres': ['Fiction', 'Post-Apocalyptic']},\n",
       " 14: {'title': 'The Girl with the Dragon Tattoo',\n",
       "  'author': 'Stieg Larsson',\n",
       "  'year': 2005,\n",
       "  'genres': ['Mystery', 'Thriller']},\n",
       " 15: {'title': 'The Alchemist',\n",
       "  'author': 'Paulo Coelho',\n",
       "  'year': 1988,\n",
       "  'genres': ['Fiction', 'Inspirational']}}"
      ]
     },
     "execution_count": 84,
     "metadata": {},
     "output_type": "execute_result"
    }
   ],
   "source": [
    "# write your code here\n",
    "table={}\n",
    "\n",
    "def add (id, title ,author,year,genres):\n",
    "        if id not in table:\n",
    "            table[id]={\"title\":title,\"author\":author,\"year\":year,\"genres\":genres}\n",
    "        else:\n",
    "            print(f\"Book with ID {id} already exists.\")\n",
    "\n",
    "\n",
    "add(1, \"Harry Potter and the Sorcerer's Stone\", \"J.K. Rowling\", 1997, [\"Fantasy\", \"Young Adult\"])\n",
    "add(2, \"To Kill a Mockingbird\", \"Harper Lee\", 1960, [\"Fiction\", \"Classics\"])\n",
    "add(3, \"The Great Gatsby\", \"F. Scott Fitzgerald\", 1925, [\"Fiction\", \"Classics\"])\n",
    "add(4, \"1984\", \"George Orwell\", 1949, [\"Fiction\", \"Dystopian\"])\n",
    "add(5, \"The Catcher in the Rye\", \"J.D. Salinger\", 1951, [\"Fiction\", \"Classics\"])\n",
    "add(6, \"Pride and Prejudice\", \"Jane Austen\", 1813, [\"Fiction\", \"Romance\", \"Classics\"])\n",
    "add(7, \"The Hobbit\", \"J.R.R. Tolkien\", 1937, [\"Fantasy\", \"Adventure\"])\n",
    "add(8, \"The Hunger Games\", \"Suzanne Collins\", 2008, [\"Science Fiction\", \"Dystopian\", \"Young Adult\"])\n",
    "add(9, \"The Da Vinci Code\", \"Dan Brown\", 2003, [\"Mystery\", \"Thriller\"])\n",
    "add(10, \"The Chronicles of Narnia\", \"C.S. Lewis\", 1950, [\"Fantasy\", \"Children's Literature\"])\n",
    "add(11, \"Gone with the Wind\", \"Margaret Mitchell\", 1936, [\"Historical Fiction\", \"Romance\"])\n",
    "add(12, \"Sapiens: A Brief History of Humankind\", \"Yuval Noah Harari\", 2011, [\"Nonfiction\", \"History\", \"Science\"])\n",
    "add(13, \"The Road\", \"Cormac McCarthy\", 2006, [\"Fiction\", \"Post-Apocalyptic\"])\n",
    "add(14, \"The Girl with the Dragon Tattoo\", \"Stieg Larsson\", 2005, [\"Mystery\", \"Thriller\"])\n",
    "add(15, \"The Alchemist\", \"Paulo Coelho\", 1988, [\"Fiction\", \"Inspirational\"])\n",
    "\n",
    "table"
   ]
  },
  {
   "cell_type": "code",
   "execution_count": 13,
   "id": "a61e1ca5",
   "metadata": {},
   "outputs": [
    {
     "name": "stdout",
     "output_type": "stream",
     "text": [
      "Book with ID 16 does not exist.\n",
      "Book with ID 17 does not exist.\n",
      "\n",
      "Updated Library:\n",
      "ID: 1, Title: Harry Potter and the Sorcerer's Stone, Year: 1997\n",
      "ID: 2, Title: To Kill a Mockingbird, Year: 1960\n",
      "ID: 3, Title: The Great Gatsby, Year: 1925\n",
      "ID: 4, Title: 1984, Year: 1949\n",
      "ID: 5, Title: The Catcher in the Rye, Year: 1951\n",
      "ID: 6, Title: Pride and Prejudice, Year: 1813\n",
      "ID: 7, Title: The Hobbit, Year: 1937\n",
      "ID: 8, Title: The Hunger Games, Year: 2008\n",
      "ID: 9, Title: The Da Vinci Code, Year: 2003\n",
      "ID: 10, Title: The Chronicles of Narnia, Year: 1950\n",
      "ID: 11, Title: Gone with the Wind, Year: 1936\n",
      "ID: 12, Title: Sapiens: A Brief History of Humankind, Year: 2011\n",
      "ID: 13, Title: The Road, Year: 2006\n",
      "ID: 14, Title: The Girl with the Dragon Tattoo, Year: 2005\n",
      "ID: 15, Title: The Alchemist, Year: 1988\n"
     ]
    }
   ],
   "source": [
    "def update_book(id, books, title=None, author=None, year=None, genres=None):\n",
    "\n",
    "    if id in books:\n",
    "        if title:\n",
    "            books[id] ['title' ] = title\n",
    "        if author:\n",
    "            books [id ] ['author' ] = author\n",
    "        if year:\n",
    "            books [id ] [ 'year' ] = year\n",
    "        if genres:\n",
    "            books [id] ['genres' ] = genres\n",
    "            print(f\"Book with ID {id} info updated.\")\n",
    "    else:\n",
    "        print(f\"Book with ID {id} does not exist.\")\n",
    "    return books\n",
    "\n",
    "table = update_book(16, table, title=\"The Silmarillion\", author=\"J.R.R. Tolkien\")\n",
    "\n",
    "table = update_book(17, table, title=\"Harry Potter and the Philosopher's Stone\", year=1998)\n",
    "\n",
    "print(\"\\nUpdated Library:\")\n",
    "for book_id, details in table.items():\n",
    "    print(f\"ID: {book_id}, Title: {details['title']}, Year: {details['year']}\")"
   ]
  },
  {
   "cell_type": "code",
   "execution_count": 16,
   "id": "14e9369b",
   "metadata": {},
   "outputs": [
    {
     "name": "stdout",
     "output_type": "stream",
     "text": [
      "Book with ID 16 does not exist. \n",
      "\n",
      "Book with ID 1 Deleted.\n",
      "\n"
     ]
    }
   ],
   "source": [
    "def delete_book(book_id):\n",
    "    if book_id not in table:\n",
    "        print(f\"Book with ID {book_id} does not exist. \\n\")\n",
    "        return\n",
    "\n",
    "    del table[book_id]\n",
    "    print(f\"Book with ID {book_id} Deleted.\\n\")\n",
    "\n",
    "delete_book(16)\n",
    "delete_book(1)"
   ]
  },
  {
   "cell_type": "code",
   "execution_count": 109,
   "id": "74c6b0e3",
   "metadata": {},
   "outputs": [
    {
     "name": "stdout",
     "output_type": "stream",
     "text": [
      "ID: 1, Title: Harry Potter and the Sorcerer's Stone, Author: J.K. Rowling, Year: 1997, Genres: ['Fantasy', 'Young Adult']\n",
      "\n",
      "ID: 2, Title: To Kill a Mockingbird, Author: Harper Lee, Year: 1960, Genres: ['Fiction', 'Classics']\n",
      "\n",
      "ID: 3, Title: The Great Gatsby, Author: F. Scott Fitzgerald, Year: 1925, Genres: ['Fiction', 'Classics']\n",
      "\n",
      "ID: 4, Title: 1984, Author: George Orwell, Year: 1949, Genres: ['Fiction', 'Dystopian']\n",
      "\n",
      "ID: 5, Title: The Catcher in the Rye, Author: J.D. Salinger, Year: 1951, Genres: ['Fiction', 'Classics']\n",
      "\n",
      "ID: 6, Title: Pride and Prejudice, Author: Jane Austen, Year: 1813, Genres: ['Fiction', 'Romance', 'Classics']\n",
      "\n",
      "ID: 7, Title: The Hobbit, Author: J.R.R. Tolkien, Year: 1937, Genres: ['Fantasy', 'Adventure']\n",
      "\n",
      "ID: 8, Title: The Hunger Games, Author: Suzanne Collins, Year: 2008, Genres: ['Science Fiction', 'Dystopian', 'Young Adult']\n",
      "\n",
      "ID: 9, Title: The Da Vinci Code, Author: Dan Brown, Year: 2003, Genres: ['Mystery', 'Thriller']\n",
      "\n",
      "ID: 10, Title: The Chronicles of Narnia, Author: C.S. Lewis, Year: 1950, Genres: ['Fantasy', \"Children's Literature\"]\n",
      "\n",
      "ID: 11, Title: Gone with the Wind, Author: Margaret Mitchell, Year: 1936, Genres: ['Historical Fiction', 'Romance']\n",
      "\n",
      "ID: 12, Title: Sapiens: A Brief History of Humankind, Author: Yuval Noah Harari, Year: 2011, Genres: ['Nonfiction', 'History', 'Science']\n",
      "\n",
      "ID: 13, Title: The Road, Author: Cormac McCarthy, Year: 2006, Genres: ['Fiction', 'Post-Apocalyptic']\n",
      "\n",
      "ID: 14, Title: The Girl with the Dragon Tattoo, Author: Stieg Larsson, Year: 2005, Genres: ['Mystery', 'Thriller']\n",
      "\n",
      "ID: 15, Title: The Alchemist, Author: Paulo Coelho, Year: 1988, Genres: ['Fiction', 'Inspirational']\n",
      "\n",
      "ID: 16, Title: The Alchemist2, Author: Paulo Coelho, Year: 1988, Genres: ['Fiction', 'Inspirational']\n",
      "\n"
     ]
    }
   ],
   "source": [
    "def display_books():\n",
    "    for id, details in table.items():\n",
    "        print(f\"ID: {id}, Title: {details['title']}, Author: {details['author']}, Year: {details['year']}, Genres: {details['genres']}\\n\")\n",
    "\n",
    "\n",
    "display_books()"
   ]
  },
  {
   "cell_type": "code",
   "execution_count": 52,
   "id": "10487663",
   "metadata": {},
   "outputs": [
    {
     "name": "stdout",
     "output_type": "stream",
     "text": [
      "15\n",
      "1964.4666666666667\n",
      "i\n"
     ]
    }
   ],
   "source": [
    "def stats(table):\n",
    "    total_books = len(table)\n",
    "\n",
    "    years = []\n",
    "    for book in table:\n",
    "        years.append(table[book] ['year'])\n",
    "\n",
    "    avg = 0\n",
    "    for i in years:\n",
    "        avg += i\n",
    "    avg /= len(years)\n",
    "    \n",
    "    genres = []\n",
    "    for book in table:\n",
    "        genres.append(table[book] ['genres'] )\n",
    "    flattened_list = [item for sublist in genres for item in sublist]\n",
    "    most_genre = max(set(flattened_list), key=flattened_list.count)\n",
    "\n",
    "    print(total_books)\n",
    "    print(avg)\n",
    "    print(most_genre)\n",
    "stats(table)"
   ]
  },
  {
   "cell_type": "code",
   "execution_count": 57,
   "id": "157aaec5",
   "metadata": {},
   "outputs": [
    {
     "name": "stdout",
     "output_type": "stream",
     "text": [
      "Searched for title 'To Kill a Mockingbird':\n",
      "{2: {'title': 'To Kill a Mockingbird', 'author': 'Harper Lee', 'year': 1960, 'genres': 'Fiction, Classics'}}\n",
      "\n",
      "No books found by author 'Author2'\n",
      "\n"
     ]
    }
   ],
   "source": [
    "def search_by_title(title):\n",
    "    result = {id: details for id, details in table.items() if details[\"title\"].lower() == title.lower()}\n",
    "    if result:\n",
    "        print(f\"Searched for title '{title}':\\n{result}\\n\")\n",
    "    else:\n",
    "        print(f\"No books found with title '{title}'\\n\")\n",
    "\n",
    "def search_by_author(author):\n",
    "    result = {id: details for id, details in table.items() if details[\"author\"].lower() == author.lower()}\n",
    "    if result:\n",
    "        print(f\"Searched for author '{author}':\\n{result}\\n\")\n",
    "    else:\n",
    "        print(f\"No books found by author '{author}'\\n\")\n",
    "\n",
    "search_by_title(\"To Kill a Mockingbird\")\n",
    "search_by_author(\"Author2\")\n"
   ]
  },
  {
   "cell_type": "code",
   "execution_count": 63,
   "id": "904293a8",
   "metadata": {},
   "outputs": [
    {
     "name": "stdout",
     "output_type": "stream",
     "text": [
      "{6: {'title': 'Pride and Prejudice', 'author': 'Jane Austen', 'year': 1813, 'genres': 'Fiction, Romance, Classics'}, 3: {'title': 'The Great Gatsby', 'author': 'F. Scott Fitzgerald', 'year': 1925, 'genres': 'Fiction, Classics'}, 11: {'title': 'Gone with the Wind', 'author': 'Margaret Mitchell', 'year': 1936, 'genres': 'Historical Fiction, Romance'}, 7: {'title': 'The Hobbit', 'author': 'J.R.R. Tolkien', 'year': 1937, 'genres': 'Fantasy, Adventure'}, 4: {'title': '1984', 'author': 'George Orwell', 'year': 1949, 'genres': 'Fiction, Dystopian'}, 10: {'title': 'The Chronicles of Narnia', 'author': 'C.S. Lewis', 'year': 1950, 'genres': \"Fantasy, Children's Literature\"}, 5: {'title': 'The Catcher in the Rye', 'author': 'J.D. Salinger', 'year': 1951, 'genres': 'Fiction, Classics'}, 2: {'title': 'To Kill a Mockingbird', 'author': 'Harper Lee', 'year': 1960, 'genres': 'Fiction, Classics'}, 15: {'title': 'The Alchemist', 'author': 'Paulo Coelho', 'year': 1988, 'genres': 'Fiction, Inspirational'}, 9: {'title': 'The Da Vinci Code', 'author': 'Dan Brown', 'year': 2003, 'genres': 'Mystery, Thriller'}, 14: {'title': 'The Girl with the Dragon Tattoo', 'author': 'Stieg Larsson', 'year': 2005, 'genres': 'Mystery, Thriller'}, 13: {'title': 'The Road', 'author': 'Cormac McCarthy', 'year': 2006, 'genres': 'Fiction, Post-Apocalyptic'}, 8: {'title': 'The Hunger Games', 'author': 'Suzanne Collins', 'year': 2008, 'genres': 'Science Fiction, Dystopian, Young Adult'}, 12: {'title': 'Sapiens: A Brief History of Humankind', 'author': 'Yuval Noah Harari', 'year': 2011, 'genres': 'Nonfiction, History, Science'}, 1: {'title': 'Title1', 'author': 'Author1', 'year': 2025, 'genres': ['Genre1', 'Genre2', 'Genre3']}}\n"
     ]
    }
   ],
   "source": [
    "def sortBook():\n",
    "        return dict(sorted(table.items(),key =lambda x : x[1]['year']))\n",
    "print(sortBook())"
   ]
  },
  {
   "cell_type": "code",
   "execution_count": 70,
   "id": "b5bea043",
   "metadata": {},
   "outputs": [
    {
     "name": "stdout",
     "output_type": "stream",
     "text": [
      "Books sorted by year (oldest to newest):\n",
      "{1: {'title': 'Title1', 'author': 'Author1', 'year': 2025, 'genres': ['Genre1', 'Genre2', 'Genre3']}, 12: {'title': 'Sapiens: A Brief History of Humankind', 'author': 'Yuval Noah Harari', 'year': 2011, 'genres': 'Nonfiction, History, Science'}, 8: {'title': 'The Hunger Games', 'author': 'Suzanne Collins', 'year': 2008, 'genres': 'Science Fiction, Dystopian, Young Adult'}, 13: {'title': 'The Road', 'author': 'Cormac McCarthy', 'year': 2006, 'genres': 'Fiction, Post-Apocalyptic'}, 14: {'title': 'The Girl with the Dragon Tattoo', 'author': 'Stieg Larsson', 'year': 2005, 'genres': 'Mystery, Thriller'}, 9: {'title': 'The Da Vinci Code', 'author': 'Dan Brown', 'year': 2003, 'genres': 'Mystery, Thriller'}, 15: {'title': 'The Alchemist', 'author': 'Paulo Coelho', 'year': 1988, 'genres': 'Fiction, Inspirational'}, 2: {'title': 'To Kill a Mockingbird', 'author': 'Harper Lee', 'year': 1960, 'genres': 'Fiction, Classics'}, 5: {'title': 'The Catcher in the Rye', 'author': 'J.D. Salinger', 'year': 1951, 'genres': 'Fiction, Classics'}, 10: {'title': 'The Chronicles of Narnia', 'author': 'C.S. Lewis', 'year': 1950, 'genres': \"Fantasy, Children's Literature\"}, 4: {'title': '1984', 'author': 'George Orwell', 'year': 1949, 'genres': 'Fiction, Dystopian'}, 7: {'title': 'The Hobbit', 'author': 'J.R.R. Tolkien', 'year': 1937, 'genres': 'Fantasy, Adventure'}, 11: {'title': 'Gone with the Wind', 'author': 'Margaret Mitchell', 'year': 1936, 'genres': 'Historical Fiction, Romance'}, 3: {'title': 'The Great Gatsby', 'author': 'F. Scott Fitzgerald', 'year': 1925, 'genres': 'Fiction, Classics'}, 6: {'title': 'Pride and Prejudice', 'author': 'Jane Austen', 'year': 1813, 'genres': 'Fiction, Romance, Classics'}}\n",
      "Books sorted by Title:\n",
      "{2: {'title': 'To Kill a Mockingbird', 'author': 'Harper Lee', 'year': 1960, 'genres': 'Fiction, Classics'}, 1: {'title': 'Title1', 'author': 'Author1', 'year': 2025, 'genres': ['Genre1', 'Genre2', 'Genre3']}, 13: {'title': 'The Road', 'author': 'Cormac McCarthy', 'year': 2006, 'genres': 'Fiction, Post-Apocalyptic'}, 8: {'title': 'The Hunger Games', 'author': 'Suzanne Collins', 'year': 2008, 'genres': 'Science Fiction, Dystopian, Young Adult'}, 7: {'title': 'The Hobbit', 'author': 'J.R.R. Tolkien', 'year': 1937, 'genres': 'Fantasy, Adventure'}, 3: {'title': 'The Great Gatsby', 'author': 'F. Scott Fitzgerald', 'year': 1925, 'genres': 'Fiction, Classics'}, 14: {'title': 'The Girl with the Dragon Tattoo', 'author': 'Stieg Larsson', 'year': 2005, 'genres': 'Mystery, Thriller'}, 9: {'title': 'The Da Vinci Code', 'author': 'Dan Brown', 'year': 2003, 'genres': 'Mystery, Thriller'}, 10: {'title': 'The Chronicles of Narnia', 'author': 'C.S. Lewis', 'year': 1950, 'genres': \"Fantasy, Children's Literature\"}, 5: {'title': 'The Catcher in the Rye', 'author': 'J.D. Salinger', 'year': 1951, 'genres': 'Fiction, Classics'}, 15: {'title': 'The Alchemist', 'author': 'Paulo Coelho', 'year': 1988, 'genres': 'Fiction, Inspirational'}, 12: {'title': 'Sapiens: A Brief History of Humankind', 'author': 'Yuval Noah Harari', 'year': 2011, 'genres': 'Nonfiction, History, Science'}, 6: {'title': 'Pride and Prejudice', 'author': 'Jane Austen', 'year': 1813, 'genres': 'Fiction, Romance, Classics'}, 11: {'title': 'Gone with the Wind', 'author': 'Margaret Mitchell', 'year': 1936, 'genres': 'Historical Fiction, Romance'}, 4: {'title': '1984', 'author': 'George Orwell', 'year': 1949, 'genres': 'Fiction, Dystopian'}}\n"
     ]
    }
   ],
   "source": [
    "def sortYear():\n",
    "    sorted_books = dict(sorted(table.items(), key=lambda x: x[1]['year'], reverse= True))\n",
    "    return sorted_books\n",
    "def sortTitle():\n",
    "    sorted_books = dict(sorted(table.items(), key=lambda x: x[1]['title'], reverse= True))\n",
    "    return sorted_books\n",
    "\n",
    "print(\"Books sorted by year (oldest to newest):\")\n",
    "print(sortYear()) \n",
    "print(\"Books sorted by Title:\")\n",
    "print(sortTitle()) "
   ]
  },
  {
   "cell_type": "code",
   "execution_count": 85,
   "id": "fa705152",
   "metadata": {},
   "outputs": [
    {
     "name": "stdout",
     "output_type": "stream",
     "text": [
      "Before:\n",
      "{1: {'title': \"Harry Potter and the Sorcerer's Stone\", 'author': 'J.K. Rowling', 'year': 1997, 'genres': ['Fantasy', 'Young Adult']}, 2: {'title': 'To Kill a Mockingbird', 'author': 'Harper Lee', 'year': 1960, 'genres': ['Fiction', 'Classics']}, 3: {'title': 'The Great Gatsby', 'author': 'F. Scott Fitzgerald', 'year': 1925, 'genres': ['Fiction', 'Classics']}, 4: {'title': '1984', 'author': 'George Orwell', 'year': 1949, 'genres': ['Fiction', 'Dystopian']}, 5: {'title': 'The Catcher in the Rye', 'author': 'J.D. Salinger', 'year': 1951, 'genres': ['Fiction', 'Classics']}, 6: {'title': 'Pride and Prejudice', 'author': 'Jane Austen', 'year': 1813, 'genres': ['Fiction', 'Romance', 'Classics']}, 7: {'title': 'The Hobbit', 'author': 'J.R.R. Tolkien', 'year': 1937, 'genres': ['Fantasy', 'Adventure']}, 8: {'title': 'The Hunger Games', 'author': 'Suzanne Collins', 'year': 2008, 'genres': ['Science Fiction', 'Dystopian', 'Young Adult']}, 9: {'title': 'The Da Vinci Code', 'author': 'Dan Brown', 'year': 2003, 'genres': ['Mystery', 'Thriller']}, 10: {'title': 'The Chronicles of Narnia', 'author': 'C.S. Lewis', 'year': 1950, 'genres': ['Fantasy', \"Children's Literature\"]}, 11: {'title': 'Gone with the Wind', 'author': 'Margaret Mitchell', 'year': 1936, 'genres': ['Historical Fiction', 'Romance']}, 12: {'title': 'Sapiens: A Brief History of Humankind', 'author': 'Yuval Noah Harari', 'year': 2011, 'genres': ['Nonfiction', 'History', 'Science']}, 13: {'title': 'The Road', 'author': 'Cormac McCarthy', 'year': 2006, 'genres': ['Fiction', 'Post-Apocalyptic']}, 14: {'title': 'The Girl with the Dragon Tattoo', 'author': 'Stieg Larsson', 'year': 2005, 'genres': ['Mystery', 'Thriller']}, 15: {'title': 'The Alchemist', 'author': 'Paulo Coelho', 'year': 1988, 'genres': ['Fiction', 'Inspirational']}}\n",
      "\n",
      "After:\n",
      "{1: {'title': \"Harry Potter and the Sorcerer's Stone\", 'author': 'J.K. Rowling', 'year': 1997, 'genres': ['Fantasy', 'Young Adult']}, 2: {'title': 'To Kill a Mockingbird', 'author': 'Harper Lee', 'year': 1960, 'genres': ['Fiction', 'Classics']}, 3: {'title': 'The Great Gatsby', 'author': 'F. Scott Fitzgerald', 'year': 1925, 'genres': ['Fiction', 'Classics']}, 4: {'title': '1984', 'author': 'George Orwell', 'year': 1949, 'genres': ['Fiction', 'Dystopian']}, 5: {'title': 'The Catcher in the Rye', 'author': 'J.D. Salinger', 'year': 1951, 'genres': ['Fiction', 'Classics']}, 6: {'title': 'Pride and Prejudice', 'author': 'Jane Austen', 'year': 1813, 'genres': ['Fiction', 'Romance', 'Classics']}, 7: {'title': 'The Hobbit', 'author': 'J.R.R. Tolkien', 'year': 1937, 'genres': ['Fantasy', 'Adventure']}, 8: {'title': 'The Hunger Games', 'author': 'Suzanne Collins', 'year': 2008, 'genres': ['Science Fiction', 'Dystopian', 'Young Adult']}, 9: {'title': 'The Da Vinci Code', 'author': 'Dan Brown', 'year': 2003, 'genres': ['Mystery', 'Thriller']}, 10: {'title': 'The Chronicles of Narnia', 'author': 'C.S. Lewis', 'year': 1950, 'genres': ['Fantasy', \"Children's Literature\"]}, 11: {'title': 'Gone with the Wind', 'author': 'Margaret Mitchell', 'year': 1936, 'genres': ['Historical Fiction', 'Romance']}, 12: {'title': 'Sapiens: A Brief History of Humankind', 'author': 'Yuval Noah Harari', 'year': 2011, 'genres': ['Nonfiction', 'History', 'Science']}, 13: {'title': 'The Road', 'author': 'Cormac McCarthy', 'year': 2006, 'genres': ['Fiction', 'Post-Apocalyptic']}, 14: {'title': 'The Girl with the Dragon Tattoo', 'author': 'Stieg Larsson', 'year': 2005, 'genres': ['Mystery', 'Thriller']}, 15: {'title': 'The Alchemist', 'author': 'Paulo Coelho', 'year': 1988, 'genres': ['Fiction', 'Inspirational']}}\n"
     ]
    }
   ],
   "source": [
    "def bulk_update_genres(old_genre, new_genre):\n",
    "    for book_id, book_info in table.items():\n",
    "        book_info['genres'] = [new_genre if genre == old_genre else genre for genre in book_info['genres']]\n",
    "\n",
    "print(\"Before:\")\n",
    "print(table)\n",
    "\n",
    "bulk_update_genres(\"genre 22\", \"Drama\")\n",
    "\n",
    "print(\"\\nAfter:\")\n",
    "print(table)"
   ]
  },
  {
   "cell_type": "code",
   "execution_count": 108,
   "id": "7867a986",
   "metadata": {},
   "outputs": [
    {
     "name": "stdout",
     "output_type": "stream",
     "text": [
      "Total number of books: 16\n",
      "Books by each author:\n",
      "J.K. Rowling: 1 books\n",
      "Harper Lee: 1 books\n",
      "F. Scott Fitzgerald: 1 books\n",
      "George Orwell: 1 books\n",
      "J.D. Salinger: 1 books\n",
      "Jane Austen: 1 books\n",
      "J.R.R. Tolkien: 1 books\n",
      "Suzanne Collins: 1 books\n",
      "Dan Brown: 1 books\n",
      "C.S. Lewis: 1 books\n",
      "Margaret Mitchell: 1 books\n",
      "Yuval Noah Harari: 1 books\n",
      "Cormac McCarthy: 1 books\n",
      "Stieg Larsson: 1 books\n",
      "Paulo Coelho: 2 books\n",
      "Books by genre:\n",
      "Fantasy: 3 books\n",
      "Young Adult: 2 books\n",
      "Fiction: 8 books\n",
      "Classics: 4 books\n",
      "Dystopian: 2 books\n",
      "Romance: 2 books\n",
      "Adventure: 1 books\n",
      "Science Fiction: 1 books\n",
      "Mystery: 2 books\n",
      "Thriller: 2 books\n",
      "Children's Literature: 1 books\n",
      "Historical Fiction: 1 books\n",
      "Nonfiction: 1 books\n",
      "History: 1 books\n",
      "Science: 1 books\n",
      "Post-Apocalyptic: 1 books\n",
      "Inspirational: 2 books\n",
      "Oldest book: Pride and Prejudice (1813)\n",
      "Newest book: Sapiens: A Brief History of Humankind (2011)\n"
     ]
    }
   ],
   "source": [
    "def stats(table):\n",
    "    \n",
    "    total_books = len(table)\n",
    "    print(f\"Total number of books: {total_books}\")\n",
    "    \n",
    "    author_count = {}\n",
    "    for details in table:\n",
    "        author = table[details]['author']\n",
    "        author_count[author] = author_count.get(author, 0) + 1\n",
    "    \n",
    "    print(\"Books by each author:\")\n",
    "    for author, count in author_count.items():\n",
    "        print(f\"{author}: {count} books\")\n",
    "    \n",
    "\n",
    "    genre_count = {}\n",
    "    for details in table:\n",
    "        genres = table[details]['genres']\n",
    "        for genre in genres:\n",
    "            genre_count[genre] = genre_count.get(genre, 0) + 1\n",
    "    \n",
    "    print(\"Books by genre:\")\n",
    "    for genre, count in genre_count.items():\n",
    "        print(f\"{genre}: {count} books\")\n",
    "    \n",
    "\n",
    "    oldest_book = min(table.items(), key=lambda x: x[1]['year'])\n",
    "    newest_book = max(table.items(), key=lambda x: x[1]['year'])\n",
    "    \n",
    "    print(f\"Oldest book: {oldest_book[1]['title']} ({oldest_book[1]['year']})\")\n",
    "    print(f\"Newest book: {newest_book[1]['title']} ({newest_book[1]['year']})\")\n",
    "\n",
    "stats(table)\n"
   ]
  }
 ],
 "metadata": {
  "kernelspec": {
   "display_name": "Python 3 (ipykernel)",
   "language": "python",
   "name": "python3"
  },
  "language_info": {
   "codemirror_mode": {
    "name": "ipython",
    "version": 3
   },
   "file_extension": ".py",
   "mimetype": "text/x-python",
   "name": "python",
   "nbconvert_exporter": "python",
   "pygments_lexer": "ipython3",
   "version": "3.11.3"
  }
 },
 "nbformat": 4,
 "nbformat_minor": 5
}

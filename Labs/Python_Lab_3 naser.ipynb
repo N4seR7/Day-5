{
 "cells": [
  {
   "cell_type": "markdown",
   "metadata": {},
   "source": [
    "# Python_Lab_3\n"
   ]
  },
  {
   "cell_type": "markdown",
   "metadata": {},
   "source": [
    "### Task 1\n",
    "- Write a function named **'create_student_records'** that takes a list of tuples. Each tuple contains a student's name and their scores in three subjects. The function should return a list of dictionaries, where each dictionary represents a student with keys: name, subject1, subject2, subject3. Use list comprehension to create the list of dictionaries."
   ]
  },
  {
   "cell_type": "code",
   "execution_count": 1,
   "metadata": {},
   "outputs": [],
   "source": [
    "# write your code here ^_^\n",
    "def create_student_records(student_data):\n",
    "   student=[\n",
    "        {\n",
    "            \"name\": student[0],\n",
    "            \"subject1\": student[1],\n",
    "            \"subject2\": student[2],\n",
    "            \"subject3\": student[3],\n",
    "        }\n",
    "        for student in student_data\n",
    "    ]\n",
    "   return student"
   ]
  },
  {
   "cell_type": "markdown",
   "metadata": {},
   "source": [
    "### Task 2\n",
    "- Write a function named **'filter_and_sort_students'** that takes the list of dictionaries from Question 1 and returns a sorted list of student names who have an average score of 80 or more across all subjects. Sort the names in alphabetical order."
   ]
  },
  {
   "cell_type": "code",
   "execution_count": 2,
   "metadata": {},
   "outputs": [],
   "source": [
    "# write your code here ^_^\n",
    "def filter_and_sort_students(student_records):\n",
    "   \n",
    "    filtered_students = []\n",
    "    for student in student_records:\n",
    "        average_score = (student[\"subject1\"] + student[\"subject2\"] + student[\"subject3\"]) / 3\n",
    "        if average_score >= 80:\n",
    "            filtered_students.append(student[\"name\"])\n",
    "    return sorted(filtered_students)"
   ]
  },
  {
   "cell_type": "markdown",
   "metadata": {},
   "source": [
    "### Task 3\n",
    "- Write a function named **'get_product_info'** that prompts the user to enter information about a product. The function should ask for the product name, product price, and product quantity. If the user enters an invalid input (e.g., a non-numeric value for the price or quantity), the function should handle the error and prompt the user to enter the value again. Return a dictionary containing the product information."
   ]
  },
  {
   "cell_type": "code",
   "execution_count": 3,
   "metadata": {},
   "outputs": [],
   "source": [
    "# write your code here ^_^\n",
    "\n",
    "def get_product_info():\n",
    "    \n",
    "    while True:\n",
    "        try:\n",
    "            name = input(\"Enter the product name: \").strip()\n",
    "            if not name:\n",
    "                raise ValueError(\"Product name cannot be empty.\")\n",
    "\n",
    "            price = float(input(\"Enter the product price: \"))\n",
    "            if price < 0:\n",
    "                raise ValueError(\"Price cannot be negative.\")\n",
    "\n",
    "            quantity = int(input(\"Enter the product quantity: \"))\n",
    "            if quantity < 0:\n",
    "                raise ValueError(\"Quantity cannot be negative.\")\n",
    "\n",
    "            return {\"name\": name, \"price\": price, \"quantity\": quantity}\n",
    "        except ValueError as e:\n",
    "            print(f\"Invalid input: {e}. Please try again.\")\n"
   ]
  },
  {
   "cell_type": "markdown",
   "metadata": {},
   "source": [
    "### Task 4\n",
    "- Write a function named **'get_even_numbers'** that takes a list of integers and returns a list of even numbers using list comprehension."
   ]
  },
  {
   "cell_type": "code",
   "execution_count": 4,
   "metadata": {},
   "outputs": [],
   "source": [
    "def get_even_numbers(numbers):\n",
    "    return [num for num in numbers if num % 2 == 0]"
   ]
  },
  {
   "cell_type": "markdown",
   "metadata": {},
   "source": [
    "### Task 5\n",
    "- Write a function named **'pair_elements'** that takes two lists of equal length as parameters and returns a list of tuples, where each tuple contains corresponding elements from the two lists. Use the zip function to achieve this."
   ]
  },
  {
   "cell_type": "markdown",
   "metadata": {},
   "source": []
  },
  {
   "cell_type": "code",
   "execution_count": 5,
   "metadata": {},
   "outputs": [],
   "source": [
    "# write your code here ^_^\n",
    "def pair_elements(list1, list2):\n",
    "    return list(zip(list1, list2))"
   ]
  },
  {
   "cell_type": "markdown",
   "metadata": {},
   "source": [
    "### Task 6\n",
    "- Write a function named **'square_dict_lambda'** that takes a list of integers and returns a dictionary where the keys are the integers and the values are their squares. Use a lambda function within a dictionary comprehension to achieve this."
   ]
  },
  {
   "cell_type": "code",
   "execution_count": 6,
   "metadata": {},
   "outputs": [],
   "source": [
    "# write your code here ^_^\n",
    "\n",
    "def square_dict_lambda(numbers):\n",
    "    return {num: (lambda x: x ** 2)(num) for num in numbers}\n",
    "\n"
   ]
  },
  {
   "cell_type": "code",
   "execution_count": 8,
   "metadata": {},
   "outputs": [
    {
     "name": "stdout",
     "output_type": "stream",
     "text": [
      "Student Records: [{'name': 'Naser', 'subject1': 85, 'subject2': 90, 'subject3': 78}, {'name': 'Ryan', 'subject1': 92, 'subject2': 88, 'subject3': 95}, {'name': 'Osama', 'subject1': 78, 'subject2': 85, 'subject3': 80}]\n",
      "Filtered and Sorted Students: ['Naser', 'Osama', 'Ryan']\n",
      "Product Info: {'name': 'abdo', 'price': 21.0, 'quantity': 21}\n",
      "Even Numbers: [2, 4, 6, 8, 10]\n",
      "Paired Elements: [(1, 'a'), (2, 'b'), (3, 'c'), (4, 'd')]\n",
      "Squared Dictionary: {1: 1, 2: 4, 3: 9, 4: 16, 5: 25}\n"
     ]
    }
   ],
   "source": [
    "# Task 1\n",
    "students = [\n",
    "    (\"Naser\", 85, 90, 78),\n",
    "    (\"Ryan\", 92, 88, 95),\n",
    "    (\"Osama\", 78, 85, 80)\n",
    "]\n",
    "records = create_student_records(students)\n",
    "print(\"Student Records:\", records)\n",
    "\n",
    "# Task 2\n",
    "filtered_sorted_students = filter_and_sort_students(records)\n",
    "print(\"Filtered and Sorted Students:\", filtered_sorted_students)\n",
    "\n",
    "# Task 3\n",
    "product_info = get_product_info()\n",
    "print(\"Product Info:\", product_info)\n",
    "\n",
    "# Task 4\n",
    "numbers = [1, 2, 3, 4, 5, 6, 7, 8, 9, 10]\n",
    "even_numbers = get_even_numbers(numbers)\n",
    "print(\"Even Numbers:\", even_numbers)\n",
    "\n",
    "# Task 5\n",
    "list1 = [1, 2, 3, 4]\n",
    "list2 = ['a', 'b', 'c', 'd']\n",
    "paired_elements = pair_elements(list1, list2)\n",
    "print(\"Paired Elements:\", paired_elements)\n",
    "\n",
    "# Task 6\n",
    "numbers = [1, 2, 3, 4, 5]\n",
    "squared_dict = square_dict_lambda(numbers)\n",
    "print(\"Squared Dictionary:\", squared_dict)\n"
   ]
  }
 ],
 "metadata": {
  "kernelspec": {
   "display_name": "Python 3",
   "language": "python",
   "name": "python3"
  },
  "language_info": {
   "codemirror_mode": {
    "name": "ipython",
    "version": 3
   },
   "file_extension": ".py",
   "mimetype": "text/x-python",
   "name": "python",
   "nbconvert_exporter": "python",
   "pygments_lexer": "ipython3",
   "version": "3.13.1"
  }
 },
 "nbformat": 4,
 "nbformat_minor": 2
}
